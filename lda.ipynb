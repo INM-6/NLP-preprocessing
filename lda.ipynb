# Discovering Topics in ICML Abstracts with LDA

# 📝 1. Introduction
print("Welcome! In this notebook, we'll explore how to automatically discover topics in ICML abstracts using a technique called Latent Dirichlet Allocation (LDA).")

# 📦 2. Install & Import Libraries
!pip install -q gensim pyLDAvis nltk

import pandas as pd
import numpy as np
import nltk
import re
import gensim
from gensim import corpora
from nltk.corpus import stopwords
from nltk.stem import WordNetLemmatizer
import pyLDAvis.gensim_models as gensimvis
import pyLDAvis
import matplotlib.pyplot as plt

nltk.download('stopwords')
nltk.download('punkt')
nltk.download('wordnet')
nltk.download('omw-1.4')

# 📂 3. Load the Dataset
# Assume your CSV file has a column named 'abstract'
df = pd.read_csv("icml_abstracts.csv")
df = df.dropna(subset=['abstract'])
df = df.reset_index(drop=True)
print("Loaded", len(df), "abstracts.")

# 🧹 4. Text Preprocessing
stop_words = set(stopwords.words('english'))
lemmatizer = WordNetLemmatizer()

def preprocess(text):
    text = text.lower()
    text = re.sub(r"[^a-zA-Z]", " ", text)
    tokens = nltk.word_tokenize(text)
    tokens = [lemmatizer.lemmatize(w) for w in tokens if w not in stop_words and len(w) > 3]
    return tokens

processed_docs = df['abstract'].map(preprocess)

# 📚 5. Create Dictionary and Corpus
dictionary = corpora.Dictionary(processed_docs)
dictionary.filter_extremes(no_below=5, no_above=0.5)
corpus = [dictionary.doc2bow(doc) for doc in processed_docs]

# 🔍 6. Train LDA Model
NUM_TOPICS = 5
lda_model = gensim.models.LdaModel(corpus=corpus,
                                   id2word=dictionary,
                                   num_topics=NUM_TOPICS,
                                   random_state=100,
                                   update_every=1,
                                   chunksize=100,
                                   passes=10,
                                   alpha='auto',
                                   per_word_topics=True)

# 📈 7. Display the Topics
for idx, topic in lda_model.print_topics(-1):
    print(f"\nTopic #{idx}:\n{topic}")

# 🌐 8. Visualize the Topics
pyLDAvis.enable_notebook()
vis = gensimvis.prepare(lda_model, corpus, dictionary)
pyLDAvis.display(vis)

# 🏁 9. Conclusion
print("\nDone! You've just learned how to perform topic modeling on research abstracts using LDA. Try changing the number of topics or preprocessing rules to explore different insights!")

